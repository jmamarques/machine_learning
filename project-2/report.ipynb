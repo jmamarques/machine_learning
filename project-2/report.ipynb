{
 "cells": [
  {
   "cell_type": "markdown",
   "metadata": {
    "collapsed": true,
    "pycharm": {
     "name": "#%% md\n"
    }
   },
   "source": [
    "## Introduction to Machine Learning\n",
    "*Student:* João Miguel Antunes Marques\n",
    "\n",
    "*Number:* 101617"
   ]
  },
  {
   "cell_type": "markdown",
   "source": [
    "#### 1\n",
    "##### a)\n",
    "Sequence as List of integers"
   ],
   "metadata": {
    "collapsed": false
   }
  },
  {
   "cell_type": "code",
   "execution_count": 1,
   "outputs": [
    {
     "name": "stdout",
     "output_type": "stream",
     "text": [
      "[1, 0]\n",
      "[1, 0, 1, 1]\n",
      "[1, 0, 1, 1, 0, 1, 0, 1]\n",
      "[1, 0, 1, 1, 0, 1, 0, 1, 0, 0, 0, 1, 1, 0, 1, 0]\n"
     ]
    }
   ],
   "source": [
    "import algorithm as alg\n",
    "import random\n",
    "import const\n",
    "\n",
    "for case in const.CASES:\n",
    "    random.seed(1000)\n",
    "    print(alg.RandomAlgorithm.random_bit_pattern(case))"
   ],
   "metadata": {
    "collapsed": false,
    "pycharm": {
     "name": "#%%\n"
    }
   }
  },
  {
   "cell_type": "markdown",
   "source": [
    "##### b)"
   ],
   "metadata": {
    "collapsed": false
   }
  },
  {
   "cell_type": "code",
   "execution_count": 2,
   "outputs": [
    {
     "name": "stdout",
     "output_type": "stream",
     "text": [
      "Time average: 1.6609827677408855e-05\n",
      "Attempts average: 4.5\n",
      "Sum table: \n",
      "\n",
      "Time average: 5.003611246744792e-05\n",
      "Attempts average: 18.933333333333334\n",
      "Sum table: \n",
      "\n",
      "Time average: 0.0013335466384887696\n",
      "Attempts average: 251.9\n",
      "Sum table: \n",
      "\n",
      "Time average: 0.5588982582092286\n",
      "Attempts average: 55950.76666666667\n",
      "Sum table: \n",
      "\n"
     ]
    }
   ],
   "source": [
    "import algorithm as alg\n",
    "import random\n",
    "import master_mind as mm\n",
    "import statistics_base as base_s\n",
    "import const\n",
    "\n",
    "#guardar todos os padrões para estudar/analisar futuramente\n",
    "goals = []\n",
    "for case in const.CASES:\n",
    "    random.seed(1000)\n",
    "    goals.append(alg.RandomAlgorithm.random_bit_pattern(case))\n",
    "\n",
    "reports = []\n",
    "for goal in goals:\n",
    "    random_alg = lambda: alg.RandomAlgorithm.random_bit_pattern(len(goal))\n",
    "    mm_play = lambda: mm.MasterMind().play(goal,random_alg)\n",
    "    statistics_play = base_s.BaseStatistics(True)\n",
    "    statistics_play.base_statistics(mm_play, 30)\n",
    "    reports.append(statistics_play)\n",
    "for report in reports:\n",
    "    print(report)"
   ],
   "metadata": {
    "collapsed": false,
    "pycharm": {
     "name": "#%%\n"
    }
   }
  }
 ],
 "metadata": {
  "kernelspec": {
   "display_name": "Python 3",
   "language": "python",
   "name": "python3"
  },
  "language_info": {
   "codemirror_mode": {
    "name": "ipython",
    "version": 2
   },
   "file_extension": ".py",
   "mimetype": "text/x-python",
   "name": "python",
   "nbconvert_exporter": "python",
   "pygments_lexer": "ipython2",
   "version": "2.7.6"
  }
 },
 "nbformat": 4,
 "nbformat_minor": 0
}