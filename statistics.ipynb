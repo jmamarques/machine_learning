{
 "cells": [
  {
   "cell_type": "markdown",
   "source": [
    "## Reinforcement Learning Exercise\n",
    "*Student:* João Miguel Antunes Marques\n",
    "\n",
    "*Number:* 101617"
   ],
   "metadata": {
    "collapsed": false,
    "pycharm": {
     "name": "#%% md\n"
    }
   }
  },
  {
   "cell_type": "markdown",
   "source": [
    "#### Exercise: 1\n",
    "##### a)\n",
    "Cosiderações:\n",
    "* O estado está compreendido entre 0 a 99\n",
    "* As acções são strings, no qual foi criado uma class para armazenar todas as acções possiveis"
   ],
   "metadata": {
    "collapsed": false,
    "pycharm": {
     "name": "#%% md\n"
    }
   }
  },
  {
   "cell_type": "code",
   "execution_count": 5,
   "outputs": [
    {
     "name": "stdout",
     "output_type": "stream",
     "text": [
      "0\n",
      "11\n",
      "1\n",
      "2\n"
     ]
    }
   ],
   "source": [
    "import random\n",
    "import iml.environment as p\n",
    "import iml.q_learning as q\n",
    "import iml.const as const\n",
    "import iml.statistics_base as s\n",
    "\n",
    "# random.seed(1000) # DELETE\n",
    "print(p.next_state(1, const.LEFT))\n",
    "print(p.next_state(1, const.DOWN))\n",
    "print(p.next_state(1, const.UP))\n",
    "print(p.next_state(1, const.RIGHT))"
   ],
   "metadata": {
    "collapsed": false,
    "pycharm": {
     "name": "#%%\n"
    }
   }
  },
  {
   "cell_type": "markdown",
   "source": [
    "##### b)\n",
    "Imprimir todos os estados de 0 a 99, ultimo o reward é 100"
   ],
   "metadata": {
    "collapsed": false,
    "pycharm": {
     "name": "#%% md\n"
    }
   }
  },
  {
   "cell_type": "code",
   "execution_count": 6,
   "outputs": [
    {
     "name": "stdout",
     "output_type": "stream",
     "text": [
      "0, 0, 0, 0, 0, 0, 0, 0, 0, 0, 0, 0, 0, 0, 0, 0, 0, 0, 0, 0, 0, 0, 0, 0, 0, 0, 0, 0, 0, 0, 0, 0, 0, 0, 0, 0, 0, 0, 0, 0, 0, 0, 0, 0, 0, 0, 0, 0, 0, 0, 0, 0, 0, 0, 0, 0, 0, 0, 0, 0, 0, 0, 0, 0, 0, 0, 0, 0, 0, 0, 0, 0, 0, 0, 0, 0, 0, 0, 0, 0, 0, 0, 0, 0, 0, 0, 0, 0, 0, 0, 0, 0, 0, 0, 0, 0, 0, 0, 0, 100, "
     ]
    }
   ],
   "source": [
    "import iml.environment as p\n",
    "\n",
    "for i in range(100):\n",
    "    print(p.reward(i), end=\", \")"
   ],
   "metadata": {
    "collapsed": false,
    "pycharm": {
     "name": "#%%\n"
    }
   }
  },
  {
   "cell_type": "markdown",
   "source": [
    "##### c)"
   ],
   "metadata": {
    "collapsed": false,
    "pycharm": {
     "name": "#%% md\n"
    }
   }
  },
  {
   "cell_type": "code",
   "execution_count": 8,
   "outputs": [
    {
     "name": "stdout",
     "output_type": "stream",
     "text": [
      "right\n",
      "right\n",
      "down\n",
      "up\n",
      "left\n"
     ]
    }
   ],
   "source": [
    "import random\n",
    "import iml.environment as p\n",
    "import iml.q_learning as q\n",
    "import iml.const as const\n",
    "import iml.statistics_base as s\n",
    "\n",
    "print(p.random_action())\n",
    "print(p.random_action())\n",
    "print(p.random_action())\n",
    "print(p.random_action())\n",
    "print(p.random_action())\n"
   ],
   "metadata": {
    "collapsed": false,
    "pycharm": {
     "name": "#%%\n"
    }
   }
  },
  {
   "cell_type": "markdown",
   "source": [
    "##### d)\n",
    "O método foi ajustado para retornar um tuplo:\n",
    "* posição 0 - posição caso seja goal, volta para a casa inicial\n",
    "* posição 1 - reward\n",
    "* posição 2 - se foi estado final ou não"
   ],
   "metadata": {
    "collapsed": false
   }
  },
  {
   "cell_type": "code",
   "execution_count": 10,
   "outputs": [
    {
     "name": "stdout",
     "output_type": "stream",
     "text": [
      "(1, 0, False)\n",
      "(0, 100, True)\n"
     ]
    }
   ],
   "source": [
    "import random\n",
    "import iml.environment as p\n",
    "import iml.q_learning as q\n",
    "import iml.const as const\n",
    "import iml.statistics_base as s\n",
    "\n",
    "print(p.end_episode(1))\n",
    "print(p.end_episode(99))"
   ],
   "metadata": {
    "collapsed": false,
    "pycharm": {
     "name": "#%%\n"
    }
   }
  },
  {
   "cell_type": "markdown",
   "source": [
    "##### e) && f)\n",
    "Os resultados serão apresentados no print"
   ],
   "metadata": {
    "collapsed": false
   }
  },
  {
   "cell_type": "code",
   "execution_count": 12,
   "outputs": [
    {
     "name": "stdout",
     "output_type": "stream",
     "text": [
      "Rewards for the 30 tests: 5600\n",
      "Average reward per step in these 1000 steps: 0.18666666666666668\n",
      "Run time for the 30 tests: 56\n",
      "Average of number of steps to reach-goal: 334.89285714285717\n",
      "Standard-deviation of number of steps to reach-goal: 216.3019504448209\n",
      "Sum table: \n",
      "--------------------------------  ------------  ------------  ------------  ------------  ------------  ------------  ------------  ------------  ------------  ------------  -----------  ------------  ------------  ------------  -----------  ------------  ------------  -----------  ------------  -----------  ------------  ------------  ------------  ------------  ------------  ------------  -----------  ------------  ------------  ------------\n",
      "0                                   1             2             3             4             5             6             7             8             9            10            11           12            13            14           15            16            17            18           19           20            21            22            23            24            25            26            27           28            29            30\n",
      "Time for each 1000 run in (s):      0.00200009    0.00200009    0.00250053    0.00200033    0.00200152    0.00199962    0.00200105    0.00200009    0.00200009    0.00200033    0.0025003    0.00200081    0.00200009    0.00200057   0.00200033    0.00200033    0.00200033    0.0025003    0.00200057   0.00200033    0.00200009    0.00200081    0.00200009    0.00200009    0.00200033    0.00200081    0.0025003    0.00200033    0.00200009    0.00200033\n",
      "Rewards for each 1000 run:        100           300           100           100           200           200           200           200           300           100           300          100           100           200            0           100           100           100          400            0           100           200           200           300           200           100           200          400           300           400\n",
      "Goals reached for each 1000 run:    1             3             1             1             2             2             2             2             3             1             3            1             1             2            0             1             1             1            4            0             1             2             2             3             2             1             2            4             3             4\n",
      "Steps Average for each run:       599           326.667       681           768           265           298.5         466           365.5         258.667       530           317.667      233           768           462            0           209           175           150          214            0           374           239           480           292.333       395           348           375.5        249.25        306.333       217\n",
      "--------------------------------  ------------  ------------  ------------  ------------  ------------  ------------  ------------  ------------  ------------  ------------  -----------  ------------  ------------  ------------  -----------  ------------  ------------  -----------  ------------  -----------  ------------  ------------  ------------  ------------  ------------  ------------  -----------  ------------  ------------  ------------\n"
     ]
    },
    {
     "data": {
      "text/plain": "<Figure size 432x288 with 1 Axes>",
      "image/png": "[encoded data removed]"
     },
     "metadata": {
      "needs_background": "light"
     },
     "output_type": "display_data"
    },
    {
     "data": {
      "text/plain": "<Figure size 432x288 with 1 Axes>",
      "image/png": "[encoded data removed]"
     },
     "metadata": {
      "needs_background": "light"
     },
     "output_type": "display_data"
    },
    {
     "data": {
      "text/plain": "<Figure size 432x288 with 1 Axes>",
      "image/png": "[encoded data removed]"
     },
     "metadata": {
      "needs_background": "light"
     },
     "output_type": "display_data"
    }
   ],
   "source": [
    "import random\n",
    "import iml.environment as p\n",
    "import iml.q_learning as q\n",
    "import iml.const as const\n",
    "import iml.statistics_base as s\n",
    "\n",
    "statistics_1_d = p.run_statistics()\n",
    "print(statistics_1_d)\n",
    "statistics_1_d.box_plot()"
   ],
   "metadata": {
    "collapsed": false,
    "pycharm": {
     "name": "#%%\n"
    }
   }
  }
 ],
 "metadata": {
  "kernelspec": {
   "display_name": "Python 3",
   "language": "python",
   "name": "python3"
  },
  "language_info": {
   "codemirror_mode": {
    "name": "ipython",
    "version": 2
   },
   "file_extension": ".py",
   "mimetype": "text/x-python",
   "name": "python",
   "nbconvert_exporter": "python",
   "pygments_lexer": "ipython2",
   "version": "2.7.6"
  }
 },
 "nbformat": 4,
 "nbformat_minor": 0
}